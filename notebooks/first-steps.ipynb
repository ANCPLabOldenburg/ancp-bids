{
 "cells": [
  {
   "cell_type": "markdown",
   "source": [
    "# Import ancpBIDS"
   ],
   "metadata": {
    "collapsed": false,
    "pycharm": {
     "name": "#%% md\n"
    }
   }
  },
  {
   "cell_type": "code",
   "execution_count": 15,
   "outputs": [],
   "source": [
    "import os\n",
    "\n",
    "import ancpbids\n",
    "import nilearn"
   ],
   "metadata": {
    "collapsed": false,
    "pycharm": {
     "name": "#%%\n"
    }
   }
  },
  {
   "cell_type": "markdown",
   "source": [
    "# Loading a dataset\n",
    "If you are familiar with pybids, you will immediately recognize the BIDSLayout interface for loading,\n",
    "indexing and querying a BIDS dataset.\n",
    "\n",
    "Let's get started by loading a openneuro dataset ds000005."
   ],
   "metadata": {
    "collapsed": false
   }
  },
  {
   "cell_type": "code",
   "execution_count": 16,
   "outputs": [],
   "source": [
    "layout = ancpbids.BIDSLayout(os.path.expanduser(\"~/datasets/ds000005\"))"
   ],
   "metadata": {
    "collapsed": false,
    "pycharm": {
     "name": "#%%\n"
    }
   }
  },
  {
   "cell_type": "markdown",
   "source": [
    "## What subjects are defined in the dataset?"
   ],
   "metadata": {
    "collapsed": false,
    "pycharm": {
     "name": "#%% md\n"
    }
   }
  },
  {
   "cell_type": "code",
   "execution_count": 12,
   "outputs": [
    {
     "data": {
      "text/plain": "['01',\n '02',\n '03',\n '04',\n '05',\n '06',\n '07',\n '08',\n '09',\n '10',\n '11',\n '12',\n '13',\n '14',\n '15',\n '16']"
     },
     "execution_count": 12,
     "metadata": {},
     "output_type": "execute_result"
    }
   ],
   "source": [
    "layout.get_subjects()\n"
   ],
   "metadata": {
    "collapsed": false,
    "pycharm": {
     "name": "#%%\n"
    }
   }
  },
  {
   "cell_type": "markdown",
   "source": [
    "## Are there any sessions or is this a single session dataset?"
   ],
   "metadata": {
    "collapsed": false,
    "pycharm": {
     "name": "#%% md\n"
    }
   }
  },
  {
   "cell_type": "code",
   "execution_count": 17,
   "outputs": [
    {
     "data": {
      "text/plain": "[]"
     },
     "execution_count": 17,
     "metadata": {},
     "output_type": "execute_result"
    }
   ],
   "source": [
    "layout.get_sessions()"
   ],
   "metadata": {
    "collapsed": false,
    "pycharm": {
     "name": "#%%\n"
    }
   }
  },
  {
   "cell_type": "markdown",
   "source": [
    "## How many runs per session?"
   ],
   "metadata": {
    "collapsed": false,
    "pycharm": {
     "name": "#%% md\n"
    }
   }
  },
  {
   "cell_type": "code",
   "execution_count": 18,
   "outputs": [
    {
     "data": {
      "text/plain": "['1', '2', '3']"
     },
     "execution_count": 18,
     "metadata": {},
     "output_type": "execute_result"
    }
   ],
   "source": [
    "layout.get_runs()"
   ],
   "metadata": {
    "collapsed": false,
    "pycharm": {
     "name": "#%%\n"
    }
   }
  },
  {
   "cell_type": "markdown",
   "source": [
    "## What datatypes/modalities are available?"
   ],
   "metadata": {
    "collapsed": false,
    "pycharm": {
     "name": "#%% md\n"
    }
   }
  },
  {
   "cell_type": "code",
   "execution_count": 19,
   "outputs": [
    {
     "data": {
      "text/plain": "[{'name': 'sub-13_T1w.nii.gz',\n  'extension': '.nii.gz',\n  'uri': None,\n  'suffix': 'T1w',\n  'entities': [{'key': 'sub', 'value': '13'}]},\n {'name': 'sub-13_inplaneT2.nii.gz',\n  'extension': '.nii.gz',\n  'uri': None,\n  'suffix': 'inplaneT2',\n  'entities': [{'key': 'sub', 'value': '13'}]},\n {'name': 'sub-13_task-mixedgamblestask_run-01_bold.nii.gz',\n  'extension': '.nii.gz',\n  'uri': None,\n  'suffix': 'bold',\n  'entities': [{'key': 'sub', 'value': '13'},\n   {'key': 'task', 'value': 'mixedgamblestask'},\n   {'key': 'run', 'value': '1'}]},\n {'name': 'sub-13_task-mixedgamblestask_run-01_events.tsv',\n  'extension': '.tsv',\n  'uri': None,\n  'suffix': 'events',\n  'entities': [{'key': 'sub', 'value': '13'},\n   {'key': 'task', 'value': 'mixedgamblestask'},\n   {'key': 'run', 'value': '1'}]},\n {'name': 'sub-13_task-mixedgamblestask_run-02_bold.nii.gz',\n  'extension': '.nii.gz',\n  'uri': None,\n  'suffix': 'bold',\n  'entities': [{'key': 'sub', 'value': '13'},\n   {'key': 'task', 'value': 'mixedgamblestask'},\n   {'key': 'run', 'value': '2'}]},\n {'name': 'sub-13_task-mixedgamblestask_run-02_events.tsv',\n  'extension': '.tsv',\n  'uri': None,\n  'suffix': 'events',\n  'entities': [{'key': 'sub', 'value': '13'},\n   {'key': 'task', 'value': 'mixedgamblestask'},\n   {'key': 'run', 'value': '2'}]},\n {'name': 'sub-13_task-mixedgamblestask_run-03_bold.nii.gz',\n  'extension': '.nii.gz',\n  'uri': None,\n  'suffix': 'bold',\n  'entities': [{'key': 'sub', 'value': '13'},\n   {'key': 'task', 'value': 'mixedgamblestask'},\n   {'key': 'run', 'value': '3'}]},\n {'name': 'sub-13_task-mixedgamblestask_run-03_events.tsv',\n  'extension': '.tsv',\n  'uri': None,\n  'suffix': 'events',\n  'entities': [{'key': 'sub', 'value': '13'},\n   {'key': 'task', 'value': 'mixedgamblestask'},\n   {'key': 'run', 'value': '3'}]}]"
     },
     "execution_count": 19,
     "metadata": {},
     "output_type": "execute_result"
    }
   ],
   "source": [
    "layout.get(subject=\"13\")\n"
   ],
   "metadata": {
    "collapsed": false,
    "pycharm": {
     "name": "#%%\n"
    }
   }
  },
  {
   "cell_type": "code",
   "execution_count": 20,
   "outputs": [
    {
     "data": {
      "text/plain": "[]"
     },
     "execution_count": 20,
     "metadata": {},
     "output_type": "execute_result"
    }
   ],
   "source": [
    "layout.get_datatypes()"
   ],
   "metadata": {
    "collapsed": false,
    "pycharm": {
     "name": "#%%\n"
    }
   }
  },
  {
   "cell_type": "code",
   "execution_count": null,
   "outputs": [],
   "source": [],
   "metadata": {
    "collapsed": false,
    "pycharm": {
     "name": "#%%\n"
    }
   }
  }
 ],
 "metadata": {
  "kernelspec": {
   "display_name": "Python 3",
   "language": "python",
   "name": "python3"
  },
  "language_info": {
   "codemirror_mode": {
    "name": "ipython",
    "version": 2
   },
   "file_extension": ".py",
   "mimetype": "text/x-python",
   "name": "python",
   "nbconvert_exporter": "python",
   "pygments_lexer": "ipython2",
   "version": "2.7.6"
  }
 },
 "nbformat": 4,
 "nbformat_minor": 0
}